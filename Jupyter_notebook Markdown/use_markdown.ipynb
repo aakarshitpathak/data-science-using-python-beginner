{
 "cells": [
  {
   "cell_type": "markdown",
   "id": "b2c34604",
   "metadata": {},
   "source": [
    "# 1. Headings\n",
    "use (#) followed by a blank space for notebook titles and section headings:\n",
    "# Title\n",
    "## Major headings\n",
    "### Subheadings\n",
    "#### 4th level Subheadings"
   ]
  },
  {
   "cell_type": "markdown",
   "id": "3b6f1ccb",
   "metadata": {},
   "source": [
    "# 2.Bold\n",
    "1. use code <b> tags\n",
    "<b> This is a bold text \n",
    "\n",
    "2. use '**' i.e. 'double asterisk'\n",
    "**This is a bold text**\n",
    "\n",
    "3. use '__' i.e. 'double underscore'\n",
    "__This is a bold text__\n"
   ]
  },
  {
   "cell_type": "markdown",
   "id": "a2d06f67",
   "metadata": {},
   "source": [
    "# 3. Italic\n",
    "1.'Single asterisk' i.e. '*'\n",
    "*This is italic text*\n",
    "\n",
    "2. 'Single underscore' i.e.'_'\n",
    "_This is italic text_"
   ]
  },
  {
   "cell_type": "markdown",
   "id": "17954f5b",
   "metadata": {},
   "source": [
    "# 4. Links:\n",
    "use this code and tesst all links ! [link text](http://url)\n",
    "[Click here to Google](https://www.google.com/)\n"
   ]
  },
  {
   "cell_type": "markdown",
   "id": "b0f058be",
   "metadata": {},
   "source": [
    "# 5. Bullets:\n",
    "1. Circular bullet: Use the dash sign (-) with space after it or Use the asterisk\n",
    "sign(*) with a space on it.\n",
    "\n",
    "2. Sub bullet: To create a sub bullet , use a tab followed a dash and a space You can also use an asterisk instead of a dash , and it works the same.\n",
    "\n",
    "- This is a bullet\n",
    "* This is a bullet\n",
    "    - This is a bullet\n",
    "    * This is a bullet"
   ]
  }
 ],
 "metadata": {
  "kernelspec": {
   "display_name": "base",
   "language": "python",
   "name": "python3"
  },
  "language_info": {
   "name": "python",
   "version": "3.13.5"
  }
 },
 "nbformat": 4,
 "nbformat_minor": 5
}
