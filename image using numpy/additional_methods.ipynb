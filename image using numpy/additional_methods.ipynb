{
 "cells": [
  {
   "cell_type": "code",
   "execution_count": 2,
   "id": "dfbc4a76",
   "metadata": {},
   "outputs": [
    {
     "data": {
      "text/plain": [
       "array([   0,    1,    2, ..., 9997, 9998, 9999], shape=(10000,))"
      ]
     },
     "execution_count": 2,
     "metadata": {},
     "output_type": "execute_result"
    }
   ],
   "source": [
    "# arrange()\n",
    "import numpy as np\n",
    "#start and end limit\n",
    "np.arange(0,10000)\n"
   ]
  },
  {
   "cell_type": "code",
   "execution_count": 3,
   "id": "4ce2c824",
   "metadata": {},
   "outputs": [
    {
     "data": {
      "text/plain": [
       "array([0, 2, 4, 6, 8])"
      ]
     },
     "execution_count": 3,
     "metadata": {},
     "output_type": "execute_result"
    }
   ],
   "source": [
    "#step value = 2\n",
    "np.arange(0,10,2)\n"
   ]
  },
  {
   "cell_type": "code",
   "execution_count": 4,
   "id": "8cce6a09",
   "metadata": {},
   "outputs": [
    {
     "name": "stdout",
     "output_type": "stream",
     "text": [
      "[ 0.          0.20408163  0.40816327  0.6122449   0.81632653  1.02040816\n",
      "  1.2244898   1.42857143  1.63265306  1.83673469  2.04081633  2.24489796\n",
      "  2.44897959  2.65306122  2.85714286  3.06122449  3.26530612  3.46938776\n",
      "  3.67346939  3.87755102  4.08163265  4.28571429  4.48979592  4.69387755\n",
      "  4.89795918  5.10204082  5.30612245  5.51020408  5.71428571  5.91836735\n",
      "  6.12244898  6.32653061  6.53061224  6.73469388  6.93877551  7.14285714\n",
      "  7.34693878  7.55102041  7.75510204  7.95918367  8.16326531  8.36734694\n",
      "  8.57142857  8.7755102   8.97959184  9.18367347  9.3877551   9.59183673\n",
      "  9.79591837 10.        ]\n",
      "Length of arr:  50\n"
     ]
    }
   ],
   "source": [
    "# linspace()\n",
    "\n",
    "#Generating values between 0 and 10\n",
    "arr = np.linspace(0,10)\n",
    "print(arr)\n",
    "print('Length of arr: ',len(arr))\n"
   ]
  },
  {
   "cell_type": "code",
   "execution_count": 5,
   "id": "7555860c",
   "metadata": {},
   "outputs": [
    {
     "name": "stdout",
     "output_type": "stream",
     "text": [
      "[ 0.  5. 10.]\n"
     ]
    }
   ],
   "source": [
    "#Number of values = 3\n",
    "print(np.linspace(0,10,3))\n"
   ]
  },
  {
   "cell_type": "code",
   "execution_count": 7,
   "id": "05d01de7",
   "metadata": {},
   "outputs": [
    {
     "data": {
      "text/plain": [
       "array([0., 0., 0., 0., 0.])"
      ]
     },
     "execution_count": 7,
     "metadata": {},
     "output_type": "execute_result"
    }
   ],
   "source": [
    "# zeros()\n",
    "import numpy as np\n",
    "#1D\n",
    "np.zeros(5)"
   ]
  },
  {
   "cell_type": "code",
   "execution_count": null,
   "id": "0a464dca",
   "metadata": {},
   "outputs": [],
   "source": [
    "#2D\n",
    "np.zeros([2,3])"
   ]
  },
  {
   "cell_type": "code",
   "execution_count": null,
   "id": "28ef228e",
   "metadata": {},
   "outputs": [],
   "source": [
    "# ones()\n",
    "#1D\n",
    "np.ones(3)"
   ]
  },
  {
   "cell_type": "code",
   "execution_count": 6,
   "id": "23252d42",
   "metadata": {},
   "outputs": [
    {
     "data": {
      "text/plain": [
       "array([[1.],\n",
       "       [1.]])"
      ]
     },
     "execution_count": 6,
     "metadata": {},
     "output_type": "execute_result"
    }
   ],
   "source": [
    "#2D\n",
    "np.ones([2,1])"
   ]
  },
  {
   "cell_type": "code",
   "execution_count": 8,
   "id": "4a00b125",
   "metadata": {},
   "outputs": [
    {
     "data": {
      "text/plain": [
       "array([8, 8, 8, 8, 8])"
      ]
     },
     "execution_count": 8,
     "metadata": {},
     "output_type": "execute_result"
    }
   ],
   "source": [
    "# full()\n",
    "#number=5, value=8\n",
    "np.full(5,8)\n"
   ]
  },
  {
   "cell_type": "code",
   "execution_count": 9,
   "id": "96234a1d",
   "metadata": {},
   "outputs": [
    {
     "data": {
      "text/plain": [
       "array([['numpy', 'numpy', 'numpy'],\n",
       "       ['numpy', 'numpy', 'numpy'],\n",
       "       ['numpy', 'numpy', 'numpy']], dtype='<U5')"
      ]
     },
     "execution_count": 9,
     "metadata": {},
     "output_type": "execute_result"
    }
   ],
   "source": [
    "#shape=[3,3], value=numpy\n",
    "np.full([3,3],'numpy')\n"
   ]
  },
  {
   "cell_type": "code",
   "execution_count": 10,
   "id": "cbee2525",
   "metadata": {},
   "outputs": [
    {
     "data": {
      "text/plain": [
       "array([[1., 0., 0.],\n",
       "       [0., 1., 0.],\n",
       "       [0., 0., 1.]])"
      ]
     },
     "execution_count": 10,
     "metadata": {},
     "output_type": "execute_result"
    }
   ],
   "source": [
    "# eye()\n",
    "#3x3 identity matrix\n",
    "np.eye(3)"
   ]
  },
  {
   "cell_type": "code",
   "execution_count": 2,
   "id": "c8ce6027",
   "metadata": {},
   "outputs": [
    {
     "data": {
      "text/plain": [
       "array([0.95504569, 0.22057416, 0.01387227, 0.87347722, 0.95806296])"
      ]
     },
     "execution_count": 2,
     "metadata": {},
     "output_type": "execute_result"
    }
   ],
   "source": [
    "# random\n",
    "import numpy as np\n",
    "#generating 5 random numbers from a uniform distribution\n",
    "np.random.rand(5)\n"
   ]
  },
  {
   "cell_type": "code",
   "execution_count": 3,
   "id": "bb42f182",
   "metadata": {},
   "outputs": [
    {
     "data": {
      "text/plain": [
       "array([4, 6, 9, 5, 1], dtype=int32)"
      ]
     },
     "execution_count": 3,
     "metadata": {},
     "output_type": "execute_result"
    }
   ],
   "source": [
    "#random integer values low=1, high=10, number of values=5\n",
    "np.random.randint(1,10, size=5)\n"
   ]
  },
  {
   "cell_type": "code",
   "execution_count": 4,
   "id": "a3d1a11d",
   "metadata": {},
   "outputs": [
    {
     "name": "stdout",
     "output_type": "stream",
     "text": [
      "[[74 95 14  8 97]\n",
      " [ 7 93 44 96 15]\n",
      " [51 42 22  7  8]]\n",
      "<class 'numpy.ndarray'>\n"
     ]
    }
   ],
   "source": [
    "# two dimensional array can also be created by passing the shape rather than values\n",
    "#random integer values high=100, shape = (3,5)\n",
    "x = np.random.randint(100, size=(3, 5))\n",
    "print(x)\n",
    "print(type(x))\n"
   ]
  },
  {
   "cell_type": "code",
   "execution_count": null,
   "id": "2b520257",
   "metadata": {},
   "outputs": [],
   "source": [
    "# To generate a random number from a predefined set of values present in an array,\n",
    "# the choice() method can be used\n",
    "#returns a single random value from the array\n",
    "x = np.random.choice([9, 3, 7, 5])\n",
    "print(x)\n"
   ]
  },
  {
   "cell_type": "code",
   "execution_count": 5,
   "id": "c8a817dc",
   "metadata": {},
   "outputs": [
    {
     "name": "stdout",
     "output_type": "stream",
     "text": [
      "[[9 7 5 7 9]\n",
      " [7 7 3 7 5]\n",
      " [7 5 5 7 3]]\n",
      "<class 'numpy.ndarray'>\n"
     ]
    }
   ],
   "source": [
    "\n",
    "#returns 3*5 random values from the array\n",
    "x = np.random.choice([9, 3, 7, 5], size=(3, 5))   # sampling to create an nd-array \n",
    "print(x)\n",
    "print(type(x))\n"
   ]
  }
 ],
 "metadata": {
  "kernelspec": {
   "display_name": "base",
   "language": "python",
   "name": "python3"
  },
  "language_info": {
   "codemirror_mode": {
    "name": "ipython",
    "version": 3
   },
   "file_extension": ".py",
   "mimetype": "text/x-python",
   "name": "python",
   "nbconvert_exporter": "python",
   "pygments_lexer": "ipython3",
   "version": "3.13.5"
  }
 },
 "nbformat": 4,
 "nbformat_minor": 5
}
