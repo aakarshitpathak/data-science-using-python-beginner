{
 "cells": [
  {
   "cell_type": "code",
   "execution_count": null,
   "id": "2f9a3bf4",
   "metadata": {},
   "outputs": [
    {
     "data": {
      "text/plain": [
       "array([[   1, 6012],\n",
       "       [   2, 7079],\n",
       "       [   3, 6886],\n",
       "       [   4, 7230],\n",
       "       [   5, 4598],\n",
       "       [   6, 5564],\n",
       "       [   7, 6971],\n",
       "       [   8, 7763],\n",
       "       [   9, 8032],\n",
       "       [  10, 9569]])"
      ]
     },
     "execution_count": 3,
     "metadata": {},
     "output_type": "execute_result"
    }
   ],
   "source": [
    "'''Represent the above data in a 10x2 array. In each row, the first element should \n",
    "contain day number and second element should contain steps walked.'''\n",
    "\n",
    "import numpy as np\n",
    "record = np.array([[1,6012],[2,7079],[3,6886],[4,7230],[5,4598],[6,5564],[7,6971]\n",
    ",[8,7763],[9,8032],[10,9569]])\n",
    "record"
   ]
  },
  {
   "cell_type": "code",
   "execution_count": 6,
   "id": "c7b7f6fc",
   "metadata": {},
   "outputs": [
    {
     "data": {
      "text/plain": [
       "array([[    1,  8012],\n",
       "       [    2,  9079],\n",
       "       [    3,  8886],\n",
       "       [    4,  9230],\n",
       "       [    5,  6598],\n",
       "       [    6,  7564],\n",
       "       [    7,  8971],\n",
       "       [    8,  9763],\n",
       "       [    9, 10032],\n",
       "       [   10, 11569]])"
      ]
     },
     "execution_count": 6,
     "metadata": {},
     "output_type": "execute_result"
    }
   ],
   "source": [
    "'''Lee notices that the tracker’s battery dies every day at 7 pm. Lee discovers that \n",
    "on an average, he walks 2000 steps every day after 7 pm. Perform an appropriate \n",
    "operation on your array to add 2000 steps to all the observations.'''\n",
    "\n",
    "import numpy as np\n",
    "record = np.array([[1,6012],[2,7079],[3,6886],[4,7230],[5,4598],[6,5564],[7,6971]\n",
    ",[8,7763],[9,8032],[10,9569]])\n",
    "\n",
    "record += [0,2000]\n",
    "record"
   ]
  },
  {
   "cell_type": "code",
   "execution_count": 7,
   "id": "f583cc82",
   "metadata": {},
   "outputs": [
    {
     "name": "stdout",
     "output_type": "stream",
     "text": [
      "(array([1, 3, 7, 8, 9]),)\n"
     ]
    },
    {
     "data": {
      "text/plain": [
       "array([ 9079,  9230,  9763, 10032, 11569])"
      ]
     },
     "execution_count": 7,
     "metadata": {},
     "output_type": "execute_result"
    }
   ],
   "source": [
    "'''Write a program that returns the steps walked if the steps walked are more than \n",
    "9000.'''\n",
    "steps = [8012,9079,8886,9230,6598,7564,8971,9763,10032,11569]\n",
    "steps_arr =np.array(steps)\n",
    "x= np.where(steps_arr >9000)\n",
    "print(x)\n",
    "steps_arr[x]\n"
   ]
  },
  {
   "cell_type": "code",
   "execution_count": 8,
   "id": "cbc8dd16",
   "metadata": {},
   "outputs": [
    {
     "name": "stdout",
     "output_type": "stream",
     "text": [
      "Sorted array [ 6598  7564  8012  8886  8971  9079  9230  9763 10032 11569]\n"
     ]
    }
   ],
   "source": [
    "'''Print an array containing steps walked in sorted order.'''\n",
    "\n",
    "steps = [8012,9079,8886,9230,6598,7564,8971,9763,10032,11569]\n",
    "steps_arr =np.array(steps)\n",
    "print(\"Sorted array\",np.sort(steps_arr))"
   ]
  }
 ],
 "metadata": {
  "kernelspec": {
   "display_name": "base",
   "language": "python",
   "name": "python3"
  },
  "language_info": {
   "codemirror_mode": {
    "name": "ipython",
    "version": 3
   },
   "file_extension": ".py",
   "mimetype": "text/x-python",
   "name": "python",
   "nbconvert_exporter": "python",
   "pygments_lexer": "ipython3",
   "version": "3.13.5"
  }
 },
 "nbformat": 4,
 "nbformat_minor": 5
}
