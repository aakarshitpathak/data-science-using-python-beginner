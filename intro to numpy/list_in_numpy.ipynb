{
 "cells": [
  {
   "cell_type": "code",
   "execution_count": 1,
   "id": "529d1522",
   "metadata": {},
   "outputs": [],
   "source": [
    "# creation of lists\n",
    "\n",
    "item_list = ['Bread', 'Milk', 'Eggs', 'Butter', 'Cocoa']\n",
    "student_marks = [78, 47, 96, 55, 34]\n",
    "hetero_list =  [ 1,2,3.0, \"text\", True, 3+2j ]\n",
    "\n"
   ]
  }
 ],
 "metadata": {
  "kernelspec": {
   "display_name": ".venv",
   "language": "python",
   "name": "python3"
  },
  "language_info": {
   "codemirror_mode": {
    "name": "ipython",
    "version": 3
   },
   "file_extension": ".py",
   "mimetype": "text/x-python",
   "name": "python",
   "nbconvert_exporter": "python",
   "pygments_lexer": "ipython3",
   "version": "3.12.5"
  }
 },
 "nbformat": 4,
 "nbformat_minor": 5
}
