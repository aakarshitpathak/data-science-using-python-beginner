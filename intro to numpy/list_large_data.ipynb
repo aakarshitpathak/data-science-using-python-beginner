{
 "cells": [
  {
   "cell_type": "code",
   "execution_count": 1,
   "id": "bf1baa9f",
   "metadata": {},
   "outputs": [
    {
     "name": "stdout",
     "output_type": "stream",
     "text": [
      "CPU times: total: 141 ms\n",
      "Wall time: 164 ms\n"
     ]
    }
   ],
   "source": [
    "%%time\n",
    "#Used to calculate total operation time\n",
    "list1 = list(range(1,1000000))\n",
    "list2 = list(range(2,1000001))\n",
    "list3 = []\n",
    "for i in range(len(list1)):\n",
    "    list3.append(list1[i]+list2[i])\n"
   ]
  },
  {
   "cell_type": "code",
   "execution_count": 7,
   "id": "fdf8cfa4",
   "metadata": {},
   "outputs": [
    {
     "name": "stdout",
     "output_type": "stream",
     "text": [
      "Time taken: 0.0123 seconds\n"
     ]
    }
   ],
   "source": [
    "# same thing using numpy\n",
    "\n",
    "import time\n",
    "import numpy as np\n",
    "\n",
    "start = time.time()\n",
    "\n",
    "a = np.arange(1, 1000000)\n",
    "b = np.arange(2, 1000001)\n",
    "c = a + b\n",
    "\n",
    "end = time.time()\n",
    "print(f\"Time taken: {end - start:.4f} seconds\")\n"
   ]
  }
 ],
 "metadata": {
  "kernelspec": {
   "display_name": "base",
   "language": "python",
   "name": "python3"
  },
  "language_info": {
   "codemirror_mode": {
    "name": "ipython",
    "version": 3
   },
   "file_extension": ".py",
   "mimetype": "text/x-python",
   "name": "python",
   "nbconvert_exporter": "python",
   "pygments_lexer": "ipython3",
   "version": "3.13.5"
  }
 },
 "nbformat": 4,
 "nbformat_minor": 5
}
