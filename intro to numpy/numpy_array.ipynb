{
 "cells": [
  {
   "cell_type": "code",
   "execution_count": 2,
   "id": "f9b9203e",
   "metadata": {},
   "outputs": [
    {
     "data": {
      "text/plain": [
       "array([130, 165, 150, 150, 140])"
      ]
     },
     "execution_count": 2,
     "metadata": {},
     "output_type": "execute_result"
    }
   ],
   "source": [
    "import numpy as np\n",
    "#creating a list of 5 horsepower values\n",
    "horsepower = [130, 165, 150, 150, 140]\n",
    "#creating a numpy array from horsepower list\n",
    "horsepower_arr = np.array(horsepower)\n",
    "horsepower_arr\n"
   ]
  }
 ],
 "metadata": {
  "kernelspec": {
   "display_name": "base",
   "language": "python",
   "name": "python3"
  },
  "language_info": {
   "codemirror_mode": {
    "name": "ipython",
    "version": 3
   },
   "file_extension": ".py",
   "mimetype": "text/x-python",
   "name": "python",
   "nbconvert_exporter": "python",
   "pygments_lexer": "ipython3",
   "version": "3.13.5"
  }
 },
 "nbformat": 4,
 "nbformat_minor": 5
}
