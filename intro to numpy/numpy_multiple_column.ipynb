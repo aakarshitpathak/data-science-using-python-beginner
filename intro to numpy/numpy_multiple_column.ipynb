{
 "cells": [
  {
   "cell_type": "code",
   "execution_count": 1,
   "id": "8ae5807a",
   "metadata": {},
   "outputs": [
    {
     "data": {
      "text/plain": [
       "array([[ 18,  15,  18,  16,  17],\n",
       "       [130, 165, 150, 150, 140],\n",
       "       [307, 350, 318, 304, 302]])"
      ]
     },
     "execution_count": 1,
     "metadata": {},
     "output_type": "execute_result"
    }
   ],
   "source": [
    "import numpy as np\n",
    "#creating a list of lists of 5 mpg, horsepower and acceleration values\n",
    "car_attributes = [[18, 15, 18, 16, 17],[130, 165, 150, 150, 140],[307, 350, 318, 304, 302]]\n",
    "#creating a numpy array from car_attributes list\n",
    "car_attributes_arr = np.array(car_attributes)\n",
    "car_attributes_arr\n"
   ]
  }
 ],
 "metadata": {
  "kernelspec": {
   "display_name": "base",
   "language": "python",
   "name": "python3"
  },
  "language_info": {
   "codemirror_mode": {
    "name": "ipython",
    "version": 3
   },
   "file_extension": ".py",
   "mimetype": "text/x-python",
   "name": "python",
   "nbconvert_exporter": "python",
   "pygments_lexer": "ipython3",
   "version": "3.13.5"
  }
 },
 "nbformat": 4,
 "nbformat_minor": 5
}
