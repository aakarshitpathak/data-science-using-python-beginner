{
 "cells": [
  {
   "cell_type": "code",
   "execution_count": 1,
   "id": "48c498d4",
   "metadata": {},
   "outputs": [
    {
     "data": {
      "text/plain": [
       "Swift         700000\n",
       "Jazz          800000\n",
       "Civic        1600000\n",
       "Altis        1800000\n",
       "Gallardo    30000000\n",
       "dtype: int64"
      ]
     },
     "execution_count": 1,
     "metadata": {},
     "output_type": "execute_result"
    }
   ],
   "source": [
    "#Using dictionary to create a series\n",
    "import pandas as pd\n",
    "car_price_dict = {'Swift':  700000,\n",
    "                       'Jazz' :  800000,\n",
    "                       'Civic' : 1600000,\n",
    "                       'Altis' : 1800000,\n",
    "                       'Gallardo': 30000000\n",
    "                      }\n",
    "car_price = pd.Series(car_price_dict)\n",
    "car_price\n"
   ]
  },
  {
   "cell_type": "code",
   "execution_count": 2,
   "id": "c0ac179f",
   "metadata": {},
   "outputs": [
    {
     "name": "stdout",
     "output_type": "stream",
     "text": [
      "Swift         700000\n",
      "Jazz          800000\n",
      "Civic        1600000\n",
      "Altis        1800000\n",
      "Gallardo    30000000\n",
      "dtype: int64\n",
      "Swift            Maruti\n",
      "Jazz              Honda\n",
      "Civic             Honda\n",
      "Altis            Toyota\n",
      "Gallardo    Lamborghini\n",
      "dtype: object\n"
     ]
    }
   ],
   "source": [
    "#Creating a car price series with a dictionary\n",
    "car_price_dict = {'Swift':  700000,\n",
    "                       'Jazz' :  800000,\n",
    "                       'Civic' : 1600000,\n",
    "                       'Altis' : 1800000,\n",
    "                       'Gallardo': 30000000\n",
    "                      }\n",
    "car_price = pd.Series(car_price_dict)\n",
    "# Creating the car manufacturer series with a dictionary\n",
    "car_man_dict = {'Swift' : 'Maruti',\n",
    "                  'Jazz'   : 'Honda',\n",
    "                  'Civic'  : 'Honda',\n",
    "                  'Altis'  : 'Toyota',\n",
    "                   'Gallardo' : 'Lamborghini'}\n",
    "car_man = pd.Series(car_man_dict)\n",
    "print(car_price)\n",
    "print(car_man)\n"
   ]
  },
  {
   "cell_type": "code",
   "execution_count": 3,
   "id": "06cd09ed",
   "metadata": {},
   "outputs": [
    {
     "data": {
      "text/html": [
       "<div>\n",
       "<style scoped>\n",
       "    .dataframe tbody tr th:only-of-type {\n",
       "        vertical-align: middle;\n",
       "    }\n",
       "\n",
       "    .dataframe tbody tr th {\n",
       "        vertical-align: top;\n",
       "    }\n",
       "\n",
       "    .dataframe thead th {\n",
       "        text-align: right;\n",
       "    }\n",
       "</style>\n",
       "<table border=\"1\" class=\"dataframe\">\n",
       "  <thead>\n",
       "    <tr style=\"text-align: right;\">\n",
       "      <th></th>\n",
       "      <th>Price</th>\n",
       "      <th>Manufacturer</th>\n",
       "    </tr>\n",
       "  </thead>\n",
       "  <tbody>\n",
       "    <tr>\n",
       "      <th>Swift</th>\n",
       "      <td>700000</td>\n",
       "      <td>Maruti</td>\n",
       "    </tr>\n",
       "    <tr>\n",
       "      <th>Jazz</th>\n",
       "      <td>800000</td>\n",
       "      <td>Honda</td>\n",
       "    </tr>\n",
       "    <tr>\n",
       "      <th>Civic</th>\n",
       "      <td>1600000</td>\n",
       "      <td>Honda</td>\n",
       "    </tr>\n",
       "    <tr>\n",
       "      <th>Altis</th>\n",
       "      <td>1800000</td>\n",
       "      <td>Toyota</td>\n",
       "    </tr>\n",
       "    <tr>\n",
       "      <th>Gallardo</th>\n",
       "      <td>30000000</td>\n",
       "      <td>Lamborghini</td>\n",
       "    </tr>\n",
       "  </tbody>\n",
       "</table>\n",
       "</div>"
      ],
      "text/plain": [
       "             Price Manufacturer\n",
       "Swift       700000       Maruti\n",
       "Jazz        800000        Honda\n",
       "Civic      1600000        Honda\n",
       "Altis      1800000       Toyota\n",
       "Gallardo  30000000  Lamborghini"
      ]
     },
     "execution_count": 3,
     "metadata": {},
     "output_type": "execute_result"
    }
   ],
   "source": [
    "'''Syntax: \n",
    "\n",
    "pd.DataFrame(data, index, columns)\n",
    "\n",
    "data - data can contain Series or list-like objects. If data is a dictionary, \n",
    "column order follows insertion-order.\n",
    "\n",
    "index- index for dataframe that is created. By default, it will be \n",
    "RangeIndex(0, 1, 2, …, n) if no explicit index is provided\n",
    "\n",
    "columns-  If data contains column labels, it will use the same . Else, default \n",
    "to RangeIndex(0, 1, 2, …, n).  '''\n",
    "\n",
    "cars = pd.DataFrame({'Price': car_price , 'Manufacturer' : car_man})\n",
    "cars\n"
   ]
  },
  {
   "cell_type": "code",
   "execution_count": 4,
   "id": "cebe1752",
   "metadata": {},
   "outputs": [
    {
     "data": {
      "text/plain": [
       "Swift         700000\n",
       "Jazz          800000\n",
       "Civic        1600000\n",
       "Altis        1800000\n",
       "Gallardo    30000000\n",
       "Name: Price, dtype: int64"
      ]
     },
     "execution_count": 4,
     "metadata": {},
     "output_type": "execute_result"
    }
   ],
   "source": [
    "cars['Price']\n"
   ]
  },
  {
   "cell_type": "code",
   "execution_count": 5,
   "id": "ef2f23a8",
   "metadata": {},
   "outputs": [
    {
     "data": {
      "text/plain": [
       "Swift            Maruti\n",
       "Jazz              Honda\n",
       "Civic             Honda\n",
       "Altis            Toyota\n",
       "Gallardo    Lamborghini\n",
       "Name: Manufacturer, dtype: object"
      ]
     },
     "execution_count": 5,
     "metadata": {},
     "output_type": "execute_result"
    }
   ],
   "source": [
    "cars['Manufacturer']\n"
   ]
  }
 ],
 "metadata": {
  "kernelspec": {
   "display_name": "base",
   "language": "python",
   "name": "python3"
  },
  "language_info": {
   "codemirror_mode": {
    "name": "ipython",
    "version": 3
   },
   "file_extension": ".py",
   "mimetype": "text/x-python",
   "name": "python",
   "nbconvert_exporter": "python",
   "pygments_lexer": "ipython3",
   "version": "3.13.5"
  }
 },
 "nbformat": 4,
 "nbformat_minor": 5
}
