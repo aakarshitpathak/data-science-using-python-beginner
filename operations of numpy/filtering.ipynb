{
 "cells": [
  {
   "cell_type": "code",
   "execution_count": 1,
   "id": "680d4676",
   "metadata": {},
   "outputs": [
    {
     "name": "stdout",
     "output_type": "stream",
     "text": [
      "[False  True  True  True  True]\n",
      "[165 150 150 140]\n"
     ]
    }
   ],
   "source": [
    "# Getting some elements out of an existing array based on certain conditions and creating a new array out of them is called filtering.\n",
    "\n",
    "import numpy as np\n",
    "#creating a list of 5 horsepower values\n",
    "horsepower = [130, 165, 150, 150, 140]\n",
    "#creating a numpy array from horsepower list\n",
    "horsepower_arr = np.array(horsepower)\n",
    "#creating filter array\n",
    "filter_arr = horsepower_arr > 135\n",
    "newarr = horsepower_arr[filter_arr]\n",
    "print(filter_arr)\n",
    "print(newarr)\n"
   ]
  }
 ],
 "metadata": {
  "kernelspec": {
   "display_name": "base",
   "language": "python",
   "name": "python3"
  },
  "language_info": {
   "codemirror_mode": {
    "name": "ipython",
    "version": 3
   },
   "file_extension": ".py",
   "mimetype": "text/x-python",
   "name": "python",
   "nbconvert_exporter": "python",
   "pygments_lexer": "ipython3",
   "version": "3.13.5"
  }
 },
 "nbformat": 4,
 "nbformat_minor": 5
}
