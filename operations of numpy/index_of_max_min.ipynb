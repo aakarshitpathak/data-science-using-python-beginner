{
 "cells": [
  {
   "cell_type": "code",
   "execution_count": null,
   "id": "bc9aa090",
   "metadata": {},
   "outputs": [],
   "source": [
    "import numpy as np\n",
    "#creating a list of 5 horsepower values\n",
    "horsepower = [130, 165, 150, 150, 140]\n",
    "#creating a numpy array from horsepower list\n",
    "horsepower_arr = np.array(horsepower)\n",
    "print(\"Index of Minimum horsepower: \", np.argmin(horsepower_arr))\n",
    "print(\"Index of Maximum horsepower: \", np.argmax(horsepower_arr))\n"
   ]
  }
 ],
 "metadata": {
  "kernelspec": {
   "display_name": "base",
   "language": "python",
   "name": "python3"
  },
  "language_info": {
   "name": "python",
   "version": "3.13.5"
  }
 },
 "nbformat": 4,
 "nbformat_minor": 5
}
