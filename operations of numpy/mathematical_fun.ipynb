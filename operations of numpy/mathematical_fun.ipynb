{
 "cells": [
  {
   "cell_type": "code",
   "execution_count": 7,
   "id": "178f92e2",
   "metadata": {},
   "outputs": [
    {
     "name": "stdout",
     "output_type": "stream",
     "text": [
      "359\n"
     ]
    }
   ],
   "source": [
    "# use of sum()\n",
    "import numpy as np\n",
    "student_marks_arr = np.array([78, 92, 36, 64, 89])\n",
    "print(np.sum(student_marks_arr))"
   ]
  },
  {
   "cell_type": "code",
   "execution_count": null,
   "id": "6a7573b8",
   "metadata": {},
   "outputs": [
    {
     "data": {
      "text/plain": [
       "array([80, 94, 41, 74, 90])"
      ]
     },
     "execution_count": 6,
     "metadata": {},
     "output_type": "execute_result"
    }
   ],
   "source": [
    "# Award extra marks in subjects as follows:\n",
    "\n",
    "# English: +2\n",
    "\n",
    "# Mathematics: +2\n",
    "\n",
    "# Physics: +5\n",
    "\n",
    "# Chemistry: +10\n",
    "\n",
    "# Biology: +2\n",
    "\n",
    "import numpy as np\n",
    "additional_marks = [2, 2, 5, 10, 1]\n",
    "student_marks_arr=[]\n",
    "student_marks_arr = student_marks_arr + additional_marks\n",
    "student_marks_arr"
   ]
  },
  {
   "cell_type": "code",
   "execution_count": 8,
   "id": "a4cd117a",
   "metadata": {},
   "outputs": [
    {
     "data": {
      "text/plain": [
       "array([80, 94, 41, 74, 90])"
      ]
     },
     "execution_count": 8,
     "metadata": {},
     "output_type": "execute_result"
    }
   ],
   "source": [
    "# same output for upper but different method\n",
    "\n",
    "student_marks_arr = np.array([78, 92, 36, 64, 89])\n",
    "student_marks_arr = np.add(student_marks_arr, additional_marks)\n",
    "student_marks_arr\n"
   ]
  }
 ],
 "metadata": {
  "kernelspec": {
   "display_name": "base",
   "language": "python",
   "name": "python3"
  },
  "language_info": {
   "codemirror_mode": {
    "name": "ipython",
    "version": 3
   },
   "file_extension": ".py",
   "mimetype": "text/x-python",
   "name": "python",
   "nbconvert_exporter": "python",
   "pygments_lexer": "ipython3",
   "version": "3.13.5"
  }
 },
 "nbformat": 4,
 "nbformat_minor": 5
}
