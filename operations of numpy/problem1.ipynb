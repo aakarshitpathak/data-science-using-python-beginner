{
 "cells": [
  {
   "cell_type": "code",
   "execution_count": 1,
   "id": "cb3a4e38",
   "metadata": {},
   "outputs": [
    {
     "data": {
      "text/plain": [
       "array([[67, 45],\n",
       "       [90, 92],\n",
       "       [66, 72],\n",
       "       [32, 40]])"
      ]
     },
     "execution_count": 1,
     "metadata": {},
     "output_type": "execute_result"
    }
   ],
   "source": [
    "import numpy as np\n",
    "#Students marks in 4 subjects\n",
    "students_marks = np.array([[67, 45],[90, 92],[66, 72],[32, 40]])\n",
    "students_marks\n"
   ]
  },
  {
   "cell_type": "code",
   "execution_count": 2,
   "id": "5a42da5e",
   "metadata": {},
   "outputs": [
    {
     "data": {
      "text/plain": [
       "array([[ 72,  55],\n",
       "       [ 95, 102],\n",
       "       [ 71,  82],\n",
       "       [ 37,  50]])"
      ]
     },
     "execution_count": 2,
     "metadata": {},
     "output_type": "execute_result"
    }
   ],
   "source": [
    "#Students marks in 4 subjects\n",
    "import numpy as np\n",
    "students_marks = np.array([[67, 45],[90, 92],[66, 72],[32, 40]])\n",
    "\n",
    "#Broadcasting i.e. adding 5 and 10 marks to subjects\n",
    "students_marks += [5,10]\n",
    "students_marks\n"
   ]
  }
 ],
 "metadata": {
  "kernelspec": {
   "display_name": "base",
   "language": "python",
   "name": "python3"
  },
  "language_info": {
   "codemirror_mode": {
    "name": "ipython",
    "version": 3
   },
   "file_extension": ".py",
   "mimetype": "text/x-python",
   "name": "python",
   "nbconvert_exporter": "python",
   "pygments_lexer": "ipython3",
   "version": "3.13.5"
  }
 },
 "nbformat": 4,
 "nbformat_minor": 5
}
