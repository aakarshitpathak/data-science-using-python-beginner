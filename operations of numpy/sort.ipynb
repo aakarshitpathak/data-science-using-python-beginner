{
 "cells": [
  {
   "cell_type": "markdown",
   "id": "759ad608",
   "metadata": {},
   "source": [
    "# The difference is that the array.sort() function modifies the original array by default, whereas the sort(array) function does not."
   ]
  },
  {
   "cell_type": "code",
   "execution_count": null,
   "id": "32c8beac",
   "metadata": {},
   "outputs": [
    {
     "name": "stdout",
     "output_type": "stream",
     "text": [
      "original array:  [130 165 150 150 140]\n",
      "Sorted array:  [130 140 150 150 165]\n",
      "original array after sorting:  [130 165 150 150 140]\n"
     ]
    }
   ],
   "source": [
    "import numpy as np\n",
    "#creating a list of 5 horsepower values\n",
    "horsepower = [130, 165, 150, 150, 140]\n",
    "#creating a numpy array from horsepower list\n",
    "horsepower_arr = np.array(horsepower)\n",
    "\n",
    "#using sort(array)\n",
    "print('original array: ', horsepower_arr)\n",
    "print('Sorted array: ', np.sort(horsepower_arr))\n",
    "print('original array after sorting: ', horsepower_arr)\n"
   ]
  },
  {
   "cell_type": "code",
   "execution_count": null,
   "id": "309d457f",
   "metadata": {},
   "outputs": [],
   "source": [
    "#creating a list of 5 horsepower values\n",
    "horsepower = [130, 165, 150, 150, 140]\n",
    "#creating a numpy array from horsepower list\n",
    "horsepower_arr = np.array(horsepower)\n",
    "\n",
    "#using sort(array)\n",
    "print('original array: ', horsepower_arr)\n",
    "horsepower_arr.sort()\n",
    "print('original array after sorting: ', horsepower_arr)\n"
   ]
  }
 ],
 "metadata": {
  "kernelspec": {
   "display_name": "base",
   "language": "python",
   "name": "python3"
  },
  "language_info": {
   "codemirror_mode": {
    "name": "ipython",
    "version": 3
   },
   "file_extension": ".py",
   "mimetype": "text/x-python",
   "name": "python",
   "nbconvert_exporter": "python",
   "pygments_lexer": "ipython3",
   "version": "3.13.5"
  }
 },
 "nbformat": 4,
 "nbformat_minor": 5
}
