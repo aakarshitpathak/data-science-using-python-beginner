{
 "cells": [
  {
   "cell_type": "code",
   "execution_count": null,
   "id": "b11a4397",
   "metadata": {},
   "outputs": [],
   "source": [
    "import pandas as pd\n",
    "import numpy as np\n",
    "df = pd.read_csv('auto_mpg.csv')\n",
    "df\n"
   ]
  },
  {
   "cell_type": "code",
   "execution_count": null,
   "id": "986cf778",
   "metadata": {},
   "outputs": [],
   "source": [
    "df.head() # It will provide first five rows of data by default if the \n",
    "# number of rows to be viewed is not passed\n",
    "df.tail()# It will provide last five rows of data by default if the \n",
    "# number of rows to be viewed is not passed\n"
   ]
  },
  {
   "cell_type": "code",
   "execution_count": null,
   "id": "93acde02",
   "metadata": {},
   "outputs": [],
   "source": [
    "# The describe function can be used to generate a quick summary of data statistics.\n",
    "df.describe()"
   ]
  },
  {
   "cell_type": "code",
   "execution_count": null,
   "id": "e22c3d9a",
   "metadata": {},
   "outputs": [],
   "source": [
    "'''To know about the datatypes and number of rows containing null values for \n",
    "respective columns, the info() function can be used'''\n",
    "df.info()"
   ]
  },
  {
   "cell_type": "code",
   "execution_count": null,
   "id": "06561d3e",
   "metadata": {},
   "outputs": [],
   "source": [
    "#  Dropping null values\n",
    "# It can be observed that the ‘horsepower’ attribute has some null values. \n",
    "# The easiest approach is to remove the rows with any null values. This \n",
    "# can be achieved using dropna() function.\n",
    "\n",
    "df.dropna(inplace = True)\n",
    "df.info()\n"
   ]
  },
  {
   "cell_type": "code",
   "execution_count": null,
   "id": "28f5734b",
   "metadata": {},
   "outputs": [],
   "source": [
    "#  Selecting a subset of the data\n",
    "''' In addition to data access techniques, pandas also provides techniques \n",
    "for indexing and selection. Selecting a specific column in a DataFrame \n",
    "can be achieved in following ways: '''\n",
    "\n",
    "# - Passing the column name:\n",
    "df['name of column']\n",
    "\n",
    "# - Passing the column name as a list:\n",
    "df[['name of column']]\n",
    "\n",
    "# To extract the subset of the data, we can pass the column names in a list:\n",
    "df[['column1', 'column2', 'column3', 'column4']]\n",
    "\n"
   ]
  },
  {
   "cell_type": "code",
   "execution_count": null,
   "id": "e86b3a08",
   "metadata": {},
   "outputs": [],
   "source": [
    "# setting custom index \n",
    "#creating a subset using head\n",
    "df_head = df.head()\n",
    "#Setting name as custom index\n",
    "df_head.set_index('name of column', inplace = True)\n",
    "df_head\n"
   ]
  },
  {
   "cell_type": "code",
   "execution_count": null,
   "id": "7b2ab73a",
   "metadata": {},
   "outputs": [],
   "source": [
    "#   iloc- Access a group of rows and columns by integer index\n",
    "# Syntax - df.iloc[Rows, Columns]\n",
    "df.iloc[2,1]\n"
   ]
  },
  {
   "cell_type": "code",
   "execution_count": null,
   "id": "fbbc5481",
   "metadata": {},
   "outputs": [],
   "source": [
    "#   loc- Access a group of rows and columns by custom index\n",
    "# creating a subset using head. 'df' refers to XYZ Custom Cars DataFrame.\n",
    "df_head = df.head()\n",
    "#Setting name as custom index\n",
    "df_head.set_index('name of column', inplace = True)\n",
    "df_head.loc['starting': 'ending']\n"
   ]
  },
  {
   "cell_type": "code",
   "execution_count": 3,
   "id": "de6a32a2",
   "metadata": {},
   "outputs": [
    {
     "data": {
      "text/html": [
       "<div>\n",
       "<style scoped>\n",
       "    .dataframe tbody tr th:only-of-type {\n",
       "        vertical-align: middle;\n",
       "    }\n",
       "\n",
       "    .dataframe tbody tr th {\n",
       "        vertical-align: top;\n",
       "    }\n",
       "\n",
       "    .dataframe thead th {\n",
       "        text-align: right;\n",
       "    }\n",
       "</style>\n",
       "<table border=\"1\" class=\"dataframe\">\n",
       "  <thead>\n",
       "    <tr style=\"text-align: right;\">\n",
       "      <th></th>\n",
       "      <th>Chemistry</th>\n",
       "      <th>Physics</th>\n",
       "      <th>Mathematics</th>\n",
       "      <th>English</th>\n",
       "    </tr>\n",
       "  </thead>\n",
       "  <tbody>\n",
       "    <tr>\n",
       "      <th>Subodh</th>\n",
       "      <td>67</td>\n",
       "      <td>45</td>\n",
       "      <td>50</td>\n",
       "      <td>19</td>\n",
       "    </tr>\n",
       "    <tr>\n",
       "      <th>Ram</th>\n",
       "      <td>90</td>\n",
       "      <td>92</td>\n",
       "      <td>87</td>\n",
       "      <td>90</td>\n",
       "    </tr>\n",
       "    <tr>\n",
       "      <th>Abdul</th>\n",
       "      <td>66</td>\n",
       "      <td>72</td>\n",
       "      <td>81</td>\n",
       "      <td>72</td>\n",
       "    </tr>\n",
       "    <tr>\n",
       "      <th>John</th>\n",
       "      <td>32</td>\n",
       "      <td>40</td>\n",
       "      <td>12</td>\n",
       "      <td>68</td>\n",
       "    </tr>\n",
       "  </tbody>\n",
       "</table>\n",
       "</div>"
      ],
      "text/plain": [
       "        Chemistry  Physics  Mathematics  English\n",
       "Subodh         67       45           50       19\n",
       "Ram            90       92           87       90\n",
       "Abdul          66       72           81       72\n",
       "John           32       40           12       68"
      ]
     },
     "execution_count": 3,
     "metadata": {},
     "output_type": "execute_result"
    }
   ],
   "source": [
    "# The teacher wants to insert a ‘Total marks’ \n",
    "# column which gives the sum of marks of all subjects\n",
    "marks = {'Chemistry': [67,90,66,32], \n",
    "        'Physics': [45,92,72,40],  \n",
    "        'Mathematics': [50,87,81,12],  \n",
    "        'English': [19,90,72,68]}\n",
    "marks_df = pd.DataFrame(marks, index = ['Subodh', 'Ram', 'Abdul', 'John'])\n",
    "marks_df\n"
   ]
  },
  {
   "cell_type": "code",
   "execution_count": 9,
   "id": "1f2177ab",
   "metadata": {},
   "outputs": [
    {
     "data": {
      "text/html": [
       "<div>\n",
       "<style scoped>\n",
       "    .dataframe tbody tr th:only-of-type {\n",
       "        vertical-align: middle;\n",
       "    }\n",
       "\n",
       "    .dataframe tbody tr th {\n",
       "        vertical-align: top;\n",
       "    }\n",
       "\n",
       "    .dataframe thead th {\n",
       "        text-align: right;\n",
       "    }\n",
       "</style>\n",
       "<table border=\"1\" class=\"dataframe\">\n",
       "  <thead>\n",
       "    <tr style=\"text-align: right;\">\n",
       "      <th></th>\n",
       "      <th>Chemistry</th>\n",
       "      <th>Physics</th>\n",
       "      <th>Mathematics</th>\n",
       "      <th>English</th>\n",
       "      <th>Total</th>\n",
       "    </tr>\n",
       "  </thead>\n",
       "  <tbody>\n",
       "    <tr>\n",
       "      <th>Subodh</th>\n",
       "      <td>67</td>\n",
       "      <td>45</td>\n",
       "      <td>50</td>\n",
       "      <td>19</td>\n",
       "      <td>181</td>\n",
       "    </tr>\n",
       "    <tr>\n",
       "      <th>Ram</th>\n",
       "      <td>90</td>\n",
       "      <td>92</td>\n",
       "      <td>87</td>\n",
       "      <td>90</td>\n",
       "      <td>359</td>\n",
       "    </tr>\n",
       "    <tr>\n",
       "      <th>Abdul</th>\n",
       "      <td>66</td>\n",
       "      <td>72</td>\n",
       "      <td>81</td>\n",
       "      <td>72</td>\n",
       "      <td>291</td>\n",
       "    </tr>\n",
       "    <tr>\n",
       "      <th>John</th>\n",
       "      <td>32</td>\n",
       "      <td>40</td>\n",
       "      <td>12</td>\n",
       "      <td>68</td>\n",
       "      <td>152</td>\n",
       "    </tr>\n",
       "  </tbody>\n",
       "</table>\n",
       "</div>"
      ],
      "text/plain": [
       "        Chemistry  Physics  Mathematics  English  Total\n",
       "Subodh         67       45           50       19    181\n",
       "Ram            90       92           87       90    359\n",
       "Abdul          66       72           81       72    291\n",
       "John           32       40           12       68    152"
      ]
     },
     "execution_count": 9,
     "metadata": {},
     "output_type": "execute_result"
    }
   ],
   "source": [
    "marks_df['Total'] = marks_df['Chemistry'] + marks_df['Physics'] + marks_df['Mathematics'] + marks_df['English']\n",
    "marks_df\n"
   ]
  },
  {
   "cell_type": "code",
   "execution_count": 10,
   "id": "6f54f7ba",
   "metadata": {},
   "outputs": [
    {
     "data": {
      "text/html": [
       "<div>\n",
       "<style scoped>\n",
       "    .dataframe tbody tr th:only-of-type {\n",
       "        vertical-align: middle;\n",
       "    }\n",
       "\n",
       "    .dataframe tbody tr th {\n",
       "        vertical-align: top;\n",
       "    }\n",
       "\n",
       "    .dataframe thead th {\n",
       "        text-align: right;\n",
       "    }\n",
       "</style>\n",
       "<table border=\"1\" class=\"dataframe\">\n",
       "  <thead>\n",
       "    <tr style=\"text-align: right;\">\n",
       "      <th></th>\n",
       "      <th>Chemistry</th>\n",
       "      <th>Physics</th>\n",
       "      <th>Mathematics</th>\n",
       "      <th>English</th>\n",
       "    </tr>\n",
       "  </thead>\n",
       "  <tbody>\n",
       "    <tr>\n",
       "      <th>Subodh</th>\n",
       "      <td>67</td>\n",
       "      <td>45</td>\n",
       "      <td>50</td>\n",
       "      <td>19</td>\n",
       "    </tr>\n",
       "    <tr>\n",
       "      <th>Ram</th>\n",
       "      <td>90</td>\n",
       "      <td>92</td>\n",
       "      <td>87</td>\n",
       "      <td>90</td>\n",
       "    </tr>\n",
       "    <tr>\n",
       "      <th>Abdul</th>\n",
       "      <td>66</td>\n",
       "      <td>72</td>\n",
       "      <td>81</td>\n",
       "      <td>72</td>\n",
       "    </tr>\n",
       "    <tr>\n",
       "      <th>John</th>\n",
       "      <td>32</td>\n",
       "      <td>40</td>\n",
       "      <td>12</td>\n",
       "      <td>68</td>\n",
       "    </tr>\n",
       "  </tbody>\n",
       "</table>\n",
       "</div>"
      ],
      "text/plain": [
       "        Chemistry  Physics  Mathematics  English\n",
       "Subodh         67       45           50       19\n",
       "Ram            90       92           87       90\n",
       "Abdul          66       72           81       72\n",
       "John           32       40           12       68"
      ]
     },
     "execution_count": 10,
     "metadata": {},
     "output_type": "execute_result"
    }
   ],
   "source": [
    "# to drop a feature\n",
    "marks_df.drop(columns = 'Total', inplace = True)\n",
    "marks_df"
   ]
  }
 ],
 "metadata": {
  "kernelspec": {
   "display_name": "base",
   "language": "python",
   "name": "python3"
  },
  "language_info": {
   "codemirror_mode": {
    "name": "ipython",
    "version": 3
   },
   "file_extension": ".py",
   "mimetype": "text/x-python",
   "name": "python",
   "nbconvert_exporter": "python",
   "pygments_lexer": "ipython3",
   "version": "3.13.5"
  }
 },
 "nbformat": 4,
 "nbformat_minor": 5
}
